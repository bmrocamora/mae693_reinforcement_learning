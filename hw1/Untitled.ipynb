{
 "cells": [
  {
   "cell_type": "code",
   "execution_count": 1,
   "metadata": {},
   "outputs": [],
   "source": [
    "import numpy as np"
   ]
  },
  {
   "cell_type": "code",
   "execution_count": 44,
   "metadata": {},
   "outputs": [
    {
     "data": {
      "text/plain": [
       "50"
      ]
     },
     "execution_count": 44,
     "metadata": {},
     "output_type": "execute_result"
    }
   ],
   "source": [
    "sz_1 = int(np.random.randint(0,100))\n",
    "sz_1"
   ]
  },
  {
   "cell_type": "code",
   "execution_count": 93,
   "metadata": {},
   "outputs": [
    {
     "data": {
      "text/plain": [
       "72"
      ]
     },
     "execution_count": 93,
     "metadata": {},
     "output_type": "execute_result"
    }
   ],
   "source": [
    "k = int(np.random.randint(-100,100))\n",
    "k+50"
   ]
  },
  {
   "cell_type": "code",
   "execution_count": 94,
   "metadata": {},
   "outputs": [
    {
     "data": {
      "text/plain": [
       "array([88, 92, 55, 37,  1, 33,  4,  3, 20, 83, 65, 97,  1, 47, 84, 38, 25,\n",
       "       69, 56, 39, 57, 93, 63, 95, 88, 34, 90, 65, 34, 19, 88, 91, 22, 24,\n",
       "       64, 87, 33, 71, 85, 10, 91, 84, 94,  0, 40, 68, 13, 40, 21, 98])"
      ]
     },
     "execution_count": 94,
     "metadata": {},
     "output_type": "execute_result"
    }
   ],
   "source": [
    "L1 = np.random.randint(0,100,sz_1)\n",
    "L1"
   ]
  },
  {
   "cell_type": "code",
   "execution_count": 102,
   "metadata": {},
   "outputs": [],
   "source": [
    "def rotation (L1, k):\n",
    "    N = len(L1)\n",
    "    r = abs(k)%N\n",
    "    print(r)\n",
    "    L2 = L1\n",
    "    \n",
    "    for i in range(N):\n",
    "        if k > 0:\n",
    "            if i+k < N-1:\n",
    "                L2[i+r] = L1[i]\n",
    "            else:\n",
    "                L2[i+r-N] = L1[i]\n",
    "        else:\n",
    "            if i-k >= 0:\n",
    "                L2[i-r] = L1[i]\n",
    "            else:\n",
    "                L2[i-r+N] = L1[i]\n",
    "    \n",
    "    return L2"
   ]
  },
  {
   "cell_type": "code",
   "execution_count": 103,
   "metadata": {},
   "outputs": [
    {
     "name": "stdout",
     "output_type": "stream",
     "text": [
      "22\n"
     ]
    },
    {
     "data": {
      "text/plain": [
       "array([ 4,  3, 20, 83, 65, 97,  1, 47, 84, 38, 25, 69, 56, 39, 57, 93, 88,\n",
       "       92, 55, 37,  1, 33, 88, 92, 55, 37,  1, 33,  4,  3, 20, 83, 65, 97,\n",
       "        1, 47, 84, 38, 25, 69, 56, 39, 57, 93, 88, 92, 55, 37,  1, 33])"
      ]
     },
     "execution_count": 103,
     "metadata": {},
     "output_type": "execute_result"
    }
   ],
   "source": [
    "L2 = rotation(L1,k)\n",
    "L2"
   ]
  }
 ],
 "metadata": {
  "kernelspec": {
   "display_name": "Python 3",
   "language": "python",
   "name": "python3"
  },
  "language_info": {
   "codemirror_mode": {
    "name": "ipython",
    "version": 3
   },
   "file_extension": ".py",
   "mimetype": "text/x-python",
   "name": "python",
   "nbconvert_exporter": "python",
   "pygments_lexer": "ipython3",
   "version": "3.8.5"
  }
 },
 "nbformat": 4,
 "nbformat_minor": 4
}
